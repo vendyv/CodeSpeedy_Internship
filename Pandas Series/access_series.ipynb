{
  "nbformat": 4,
  "nbformat_minor": 0,
  "metadata": {
    "colab": {
      "name": "access_series.ipynb",
      "provenance": []
    },
    "kernelspec": {
      "name": "python3",
      "display_name": "Python 3"
    }
  },
  "cells": [
    {
      "cell_type": "code",
      "metadata": {
        "id": "PSXrW_Yh8pBg",
        "colab_type": "code",
        "colab": {}
      },
      "source": [
        "import pandas as pd"
      ],
      "execution_count": 0,
      "outputs": []
    },
    {
      "cell_type": "code",
      "metadata": {
        "id": "jXy2JroW9AxD",
        "colab_type": "code",
        "colab": {
          "base_uri": "https://localhost:8080/",
          "height": 101
        },
        "outputId": "5dcb59a8-1c02-452a-c439-68f52486475b"
      },
      "source": [
        "index=[\"zeroth\", \"first\", \"second\", \"third\"]\n",
        "series = pd.Series([\"a\", \"b\", \"c\", \"d\"], index=index)\n",
        "print(series)"
      ],
      "execution_count": 2,
      "outputs": [
        {
          "output_type": "stream",
          "text": [
            "zeroth    a\n",
            "first     b\n",
            "second    c\n",
            "third     d\n",
            "dtype: object\n"
          ],
          "name": "stdout"
        }
      ]
    },
    {
      "cell_type": "code",
      "metadata": {
        "id": "9pkKXcRV9TSs",
        "colab_type": "code",
        "colab": {
          "base_uri": "https://localhost:8080/",
          "height": 34
        },
        "outputId": "03fc94b4-12f8-4c8c-cffe-8e306176e20b"
      },
      "source": [
        "print(\"At third index: \", series.at[\"third\"]) #Index-based"
      ],
      "execution_count": 3,
      "outputs": [
        {
          "output_type": "stream",
          "text": [
            "At third index:  d\n"
          ],
          "name": "stdout"
        }
      ]
    },
    {
      "cell_type": "code",
      "metadata": {
        "id": "zXjVOnv8_wt0",
        "colab_type": "code",
        "colab": {
          "base_uri": "https://localhost:8080/",
          "height": 84
        },
        "outputId": "a5b6c909-54b6-41d0-8ce2-d1cadc089d65"
      },
      "source": [
        "for i in index: #Index-based\n",
        "  print(series.loc[i])"
      ],
      "execution_count": 4,
      "outputs": [
        {
          "output_type": "stream",
          "text": [
            "a\n",
            "b\n",
            "c\n",
            "d\n"
          ],
          "name": "stdout"
        }
      ]
    },
    {
      "cell_type": "code",
      "metadata": {
        "id": "2uQdvGUd9wP2",
        "colab_type": "code",
        "colab": {
          "base_uri": "https://localhost:8080/",
          "height": 34
        },
        "outputId": "43968d20-b3c6-42c5-b129-6a36a9eba43e"
      },
      "source": [
        "print(\"At third position: \", series.iat[3]) #Position-based"
      ],
      "execution_count": 5,
      "outputs": [
        {
          "output_type": "stream",
          "text": [
            "At third position:  d\n"
          ],
          "name": "stdout"
        }
      ]
    },
    {
      "cell_type": "code",
      "metadata": {
        "id": "bcAZHkmD-DRx",
        "colab_type": "code",
        "colab": {
          "base_uri": "https://localhost:8080/",
          "height": 84
        },
        "outputId": "4d281e8d-c14c-4436-c2f7-cb6db96c1fdf"
      },
      "source": [
        "for i in range(0, len(index)): #Position-based\n",
        "  print(series.iloc[i])"
      ],
      "execution_count": 6,
      "outputs": [
        {
          "output_type": "stream",
          "text": [
            "a\n",
            "b\n",
            "c\n",
            "d\n"
          ],
          "name": "stdout"
        }
      ]
    }
  ]
}