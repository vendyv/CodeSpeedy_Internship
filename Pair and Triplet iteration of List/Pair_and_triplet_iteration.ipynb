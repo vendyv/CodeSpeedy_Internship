{
  "nbformat": 4,
  "nbformat_minor": 0,
  "metadata": {
    "colab": {
      "name": "Pair and triplet iteration.ipynb",
      "provenance": []
    },
    "kernelspec": {
      "name": "python3",
      "display_name": "Python 3"
    }
  },
  "cells": [
    {
      "cell_type": "code",
      "metadata": {
        "id": "o3s1mYL-bQAc",
        "colab_type": "code",
        "colab": {
          "base_uri": "https://localhost:8080/",
          "height": 34
        },
        "outputId": "7c4f513d-e0b4-43c6-cabc-9a5e0c2f2a9b"
      },
      "source": [
        "l = [1,2,3,4,5,6,7,8]\n",
        "print(\"List: \", l)\n",
        "length = len(l) + 1"
      ],
      "execution_count": 5,
      "outputs": [
        {
          "output_type": "stream",
          "text": [
            "List:  [1, 2, 3, 4, 5, 6, 7, 8]\n"
          ],
          "name": "stdout"
        }
      ]
    },
    {
      "cell_type": "code",
      "metadata": {
        "id": "Xb862GyWfBIG",
        "colab_type": "code",
        "colab": {
          "base_uri": "https://localhost:8080/",
          "height": 134
        },
        "outputId": "6b2f0e86-8c87-4bce-8333-137cf1baab63"
      },
      "source": [
        "#Method 1\n",
        "double_iter = list(zip(l, l[1:]))\n",
        "for i in double_iter:\n",
        "  print (i)"
      ],
      "execution_count": 6,
      "outputs": [
        {
          "output_type": "stream",
          "text": [
            "(1, 2)\n",
            "(2, 3)\n",
            "(3, 4)\n",
            "(4, 5)\n",
            "(5, 6)\n",
            "(6, 7)\n",
            "(7, 8)\n"
          ],
          "name": "stdout"
        }
      ]
    },
    {
      "cell_type": "code",
      "metadata": {
        "id": "zm7tlcraesxy",
        "colab_type": "code",
        "colab": {
          "base_uri": "https://localhost:8080/",
          "height": 134
        },
        "outputId": "7592d17d-9a1c-43dc-ca61-a2fa5989423e"
      },
      "source": [
        "#Method 2\n",
        "double_iter = [[(i), (i+1)%length] for i in l if (i+1)%length >= l[1]]\n",
        "for i in double_iter:\n",
        "  print (i)"
      ],
      "execution_count": 7,
      "outputs": [
        {
          "output_type": "stream",
          "text": [
            "[1, 2]\n",
            "[2, 3]\n",
            "[3, 4]\n",
            "[4, 5]\n",
            "[5, 6]\n",
            "[6, 7]\n",
            "[7, 8]\n"
          ],
          "name": "stdout"
        }
      ]
    },
    {
      "cell_type": "code",
      "metadata": {
        "id": "6AM40lkEc6Km",
        "colab_type": "code",
        "colab": {
          "base_uri": "https://localhost:8080/",
          "height": 118
        },
        "outputId": "d3ca1deb-f63f-4092-93e4-04f02b82c733"
      },
      "source": [
        "triple_iter = [[(i), (i+1)%length, (i+2)%length] for i in l if (i+2)%length >= l[2]]\n",
        "for i in triple_iter:\n",
        "  print (i)"
      ],
      "execution_count": 8,
      "outputs": [
        {
          "output_type": "stream",
          "text": [
            "[1, 2, 3]\n",
            "[2, 3, 4]\n",
            "[3, 4, 5]\n",
            "[4, 5, 6]\n",
            "[5, 6, 7]\n",
            "[6, 7, 8]\n"
          ],
          "name": "stdout"
        }
      ]
    }
  ]
}