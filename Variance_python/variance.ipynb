{
  "nbformat": 4,
  "nbformat_minor": 0,
  "metadata": {
    "colab": {
      "name": "variance.ipynb",
      "provenance": []
    },
    "kernelspec": {
      "name": "python3",
      "display_name": "Python 3"
    }
  },
  "cells": [
    {
      "cell_type": "code",
      "metadata": {
        "id": "5_Blx555XAUP",
        "colab_type": "code",
        "colab": {}
      },
      "source": [
        "def variance_1(arr):\n",
        "  mean = sum(arr)/len(arr)\n",
        "  temp = [(i-mean)**2 for i in arr]\n",
        "  variance = sum(temp)/len(arr)\n",
        "  return variance"
      ],
      "execution_count": 0,
      "outputs": []
    },
    {
      "cell_type": "code",
      "metadata": {
        "id": "1QzwByYSYODu",
        "colab_type": "code",
        "colab": {}
      },
      "source": [
        "import statistics\n",
        "def variance_2(arr):\n",
        "  return statistics.pvariance(arr)"
      ],
      "execution_count": 0,
      "outputs": []
    },
    {
      "cell_type": "code",
      "metadata": {
        "id": "8PGcXLWjaGDb",
        "colab_type": "code",
        "colab": {}
      },
      "source": [
        "import numpy as np\n",
        "def variance_3(arr):\n",
        "  return np.var(arr)"
      ],
      "execution_count": 0,
      "outputs": []
    },
    {
      "cell_type": "code",
      "metadata": {
        "id": "bArbXc1kYllk",
        "colab_type": "code",
        "colab": {
          "base_uri": "https://localhost:8080/",
          "height": 84
        },
        "outputId": "da0d933e-8b19-466a-ea31-9dbe1181553c"
      },
      "source": [
        "arr = [4,5,6,7]\n",
        "print(\"original array: \", arr)\n",
        "print(\"Variance of the data using method 1: \", variance_1(arr))\n",
        "print(\"Variance of the data using method 2: \", variance_3(arr))\n",
        "print(\"Variance of the data using method 3: \", variance_3(arr))"
      ],
      "execution_count": 4,
      "outputs": [
        {
          "output_type": "stream",
          "text": [
            "original array:  [4, 5, 6, 7]\n",
            "Variance of the data using method 1:  1.25\n",
            "Variance of the data using method 2:  1.25\n",
            "Variance of the data using method 3:  1.25\n"
          ],
          "name": "stdout"
        }
      ]
    },
    {
      "cell_type": "code",
      "metadata": {
        "id": "En_mCWhAYxW3",
        "colab_type": "code",
        "colab": {}
      },
      "source": [
        ""
      ],
      "execution_count": 0,
      "outputs": []
    }
  ]
}