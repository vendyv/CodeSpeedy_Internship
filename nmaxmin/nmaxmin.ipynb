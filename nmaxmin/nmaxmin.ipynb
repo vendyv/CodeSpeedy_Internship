{
  "nbformat": 4,
  "nbformat_minor": 0,
  "metadata": {
    "colab": {
      "name": "nmaxmin.ipynb",
      "provenance": []
    },
    "kernelspec": {
      "name": "python3",
      "display_name": "Python 3"
    }
  },
  "cells": [
    {
      "cell_type": "code",
      "metadata": {
        "id": "hQrHTYnmrtX9",
        "colab_type": "code",
        "colab": {
          "base_uri": "https://localhost:8080/",
          "height": 34
        },
        "outputId": "4d4385b9-b761-484a-ce93-c031a1bbe598"
      },
      "source": [
        "!pip install nmaxmin==1.0.1\n",
        "from nmaxmin import nmaxmin "
      ],
      "execution_count": 1,
      "outputs": [
        {
          "output_type": "stream",
          "text": [
            "Requirement already satisfied: nmaxmin==1.0.1 in /usr/local/lib/python3.6/dist-packages (1.0.1)\n"
          ],
          "name": "stdout"
        }
      ]
    },
    {
      "cell_type": "code",
      "metadata": {
        "id": "IeJnKh6prxte",
        "colab_type": "code",
        "colab": {
          "base_uri": "https://localhost:8080/",
          "height": 50
        },
        "outputId": "bc5e3eee-b51b-4806-a78c-e92df3e2e29e"
      },
      "source": [
        "arr = [4,6,8,10,45,82,64,245,29,1935,42,6,10]\n",
        "nth = 4\n",
        "maxx = nmaxmin.maxn(arr, nth)\n",
        "print(\"{}th highest element according to nmaxmin in given array is: {}\".format(nth, maxx))\n",
        "arr.sort(reverse=True)\n",
        "print(\"{}th highest element after sorting the given array is: {}\".format(nth, arr[nth-1]))"
      ],
      "execution_count": 2,
      "outputs": [
        {
          "output_type": "stream",
          "text": [
            "4th highest element according to nmaxmin in given array is: 64\n",
            "4th highest element after sorting the given array is: 64\n"
          ],
          "name": "stdout"
        }
      ]
    },
    {
      "cell_type": "code",
      "metadata": {
        "id": "J9873lz4sYo-",
        "colab_type": "code",
        "colab": {
          "base_uri": "https://localhost:8080/",
          "height": 50
        },
        "outputId": "df2f5f79-b7e7-4d1c-bd1d-f5c0cb376025"
      },
      "source": [
        "arr = [4,6,8,10,45,82,64,245,29,1935,42,6,10]\n",
        "nth = 4\n",
        "minn = nmaxmin.minn(arr, nth)\n",
        "print(\"{}th lowest element according to nmaxmin in given array is: {}\".format(nth, minn))\n",
        "arr.sort()\n",
        "print(\"{}th highest element after sorting the given array is: {}\".format(nth, arr[nth-1]))\n"
      ],
      "execution_count": 3,
      "outputs": [
        {
          "output_type": "stream",
          "text": [
            "4th lowest element according to nmaxmin in given array is: 8\n",
            "4th highest element after sorting the given array is: 8\n"
          ],
          "name": "stdout"
        }
      ]
    }
  ]
}