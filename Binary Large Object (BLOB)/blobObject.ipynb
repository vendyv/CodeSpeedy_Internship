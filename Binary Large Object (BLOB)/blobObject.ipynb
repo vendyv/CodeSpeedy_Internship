{
  "nbformat": 4,
  "nbformat_minor": 0,
  "metadata": {
    "colab": {
      "name": "blobObject.ipynb",
      "provenance": []
    },
    "kernelspec": {
      "name": "python3",
      "display_name": "Python 3"
    }
  },
  "cells": [
    {
      "cell_type": "code",
      "metadata": {
        "id": "nS9pU023yu5C",
        "colab_type": "code",
        "colab": {
          "base_uri": "https://localhost:8080/",
          "height": 118
        },
        "outputId": "082d5f40-35bd-4e96-f962-22ce34f04708"
      },
      "source": [
        "!pip install Wand\n",
        "!apt-get install libmagickwand-dev"
      ],
      "execution_count": 1,
      "outputs": [
        {
          "output_type": "stream",
          "text": [
            "Requirement already satisfied: Wand in /usr/local/lib/python3.6/dist-packages (0.6.1)\n",
            "Reading package lists... Done\n",
            "Building dependency tree       \n",
            "Reading state information... Done\n",
            "libmagickwand-dev is already the newest version (8:6.9.7.4+dfsg-16ubuntu6.8).\n",
            "0 upgraded, 0 newly installed, 0 to remove and 32 not upgraded.\n"
          ],
          "name": "stdout"
        }
      ]
    },
    {
      "cell_type": "code",
      "metadata": {
        "id": "hrXv9b2RzG1h",
        "colab_type": "code",
        "colab": {}
      },
      "source": [
        "from wand.image import Image"
      ],
      "execution_count": 0,
      "outputs": []
    },
    {
      "cell_type": "code",
      "metadata": {
        "id": "eJyExEQ_zwGl",
        "colab_type": "code",
        "colab": {}
      },
      "source": [
        "with open(\"random_image.png\", \"rb\") as f:\n",
        "  image_blob = f.read()"
      ],
      "execution_count": 0,
      "outputs": []
    },
    {
      "cell_type": "code",
      "metadata": {
        "id": "tivplg2r0flz",
        "colab_type": "code",
        "colab": {
          "base_uri": "https://localhost:8080/",
          "height": 50
        },
        "outputId": "35a56cd3-ea8f-4e6c-f731-4444715c5bf9"
      },
      "source": [
        "with Image(blob = image_blob) as img:\n",
        "  print(\"width = \", img.width)\n",
        "  print(\"height = \", img.height)"
      ],
      "execution_count": 4,
      "outputs": [
        {
          "output_type": "stream",
          "text": [
            "width =  1920\n",
            "height =  1080\n"
          ],
          "name": "stdout"
        }
      ]
    }
  ]
}