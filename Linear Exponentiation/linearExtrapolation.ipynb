{
  "nbformat": 4,
  "nbformat_minor": 0,
  "metadata": {
    "colab": {
      "name": "linearExtrapolation.ipynb",
      "provenance": []
    },
    "kernelspec": {
      "name": "python3",
      "display_name": "Python 3"
    }
  },
  "cells": [
    {
      "cell_type": "code",
      "metadata": {
        "id": "E6QDKLbSGPAK",
        "colab_type": "code",
        "colab": {
          "base_uri": "https://localhost:8080/",
          "height": 67
        },
        "outputId": "12e84223-76c2-45f8-df12-ce49bda7827e"
      },
      "source": [
        "from numpy import arange\n",
        "x = arange(1, 11)\n",
        "y = (4*x - 5)/7\n",
        "print (x, y, sep=\"\\n\")"
      ],
      "execution_count": 11,
      "outputs": [
        {
          "output_type": "stream",
          "text": [
            "[ 1  2  3  4  5  6  7  8  9 10]\n",
            "[-0.14285714  0.42857143  1.          1.57142857  2.14285714  2.71428571\n",
            "  3.28571429  3.85714286  4.42857143  5.        ]\n"
          ],
          "name": "stdout"
        }
      ]
    },
    {
      "cell_type": "code",
      "metadata": {
        "id": "84OusGZ0PH8y",
        "colab_type": "code",
        "colab": {
          "base_uri": "https://localhost:8080/",
          "height": 34
        },
        "outputId": "a1becf98-2221-4c83-bdc0-bc1e42a94056"
      },
      "source": [
        "import random\n",
        "x1 = random.choice(x)\n",
        "y1 = y[x1-1]\n",
        "print(x1, y1)"
      ],
      "execution_count": 19,
      "outputs": [
        {
          "output_type": "stream",
          "text": [
            "6 2.7142857142857144\n"
          ],
          "name": "stdout"
        }
      ]
    },
    {
      "cell_type": "code",
      "metadata": {
        "id": "aheQbH8EPtNw",
        "colab_type": "code",
        "colab": {
          "base_uri": "https://localhost:8080/",
          "height": 34
        },
        "outputId": "2a7ea1e5-407c-417c-f4b8-62d7afb97525"
      },
      "source": [
        "x2 = random.choice(x)\n",
        "y2 = y[x2-1]\n",
        "print(x2, y2)"
      ],
      "execution_count": 20,
      "outputs": [
        {
          "output_type": "stream",
          "text": [
            "8 3.857142857142857\n"
          ],
          "name": "stdout"
        }
      ]
    },
    {
      "cell_type": "code",
      "metadata": {
        "id": "BXRSWWh0QPJu",
        "colab_type": "code",
        "colab": {
          "base_uri": "https://localhost:8080/",
          "height": 34
        },
        "outputId": "cb00881e-3087-412c-a7de-167e1c695087"
      },
      "source": [
        "x3 = 13.5\n",
        "y3 = y1 + (x3 - x1)/(x2 - x1)*(y2 - y1)\n",
        "print(x3, y3)"
      ],
      "execution_count": 21,
      "outputs": [
        {
          "output_type": "stream",
          "text": [
            "13.5 7.0\n"
          ],
          "name": "stdout"
        }
      ]
    },
    {
      "cell_type": "code",
      "metadata": {
        "id": "zVMPPVZqRVeX",
        "colab_type": "code",
        "colab": {
          "base_uri": "https://localhost:8080/",
          "height": 50
        },
        "outputId": "38bfed65-03e6-4272-cd07-1023ad3f44eb"
      },
      "source": [
        "a = arange(1, 11)\n",
        "b = a**2\n",
        "print(a, b, sep=\"\\n\")"
      ],
      "execution_count": 23,
      "outputs": [
        {
          "output_type": "stream",
          "text": [
            "[ 1  2  3  4  5  6  7  8  9 10]\n",
            "[  1   4   9  16  25  36  49  64  81 100]\n"
          ],
          "name": "stdout"
        }
      ]
    },
    {
      "cell_type": "code",
      "metadata": {
        "id": "HPM0DraqRhEU",
        "colab_type": "code",
        "colab": {
          "base_uri": "https://localhost:8080/",
          "height": 34
        },
        "outputId": "e6434ca5-acda-4749-a210-04582324209c"
      },
      "source": [
        "import random\n",
        "a1 = random.choice(a)\n",
        "b1 = b[a1-1]\n",
        "print(a1, b1)"
      ],
      "execution_count": 24,
      "outputs": [
        {
          "output_type": "stream",
          "text": [
            "2 4\n"
          ],
          "name": "stdout"
        }
      ]
    },
    {
      "cell_type": "code",
      "metadata": {
        "id": "Tqmj9HBhRwUT",
        "colab_type": "code",
        "colab": {
          "base_uri": "https://localhost:8080/",
          "height": 34
        },
        "outputId": "f6183dfc-bed8-4fd1-828f-7572abbebf36"
      },
      "source": [
        "a2 = random.choice(a)\n",
        "b2 = b[a2-1]\n",
        "print(a2, b2)"
      ],
      "execution_count": 28,
      "outputs": [
        {
          "output_type": "stream",
          "text": [
            "8 64\n"
          ],
          "name": "stdout"
        }
      ]
    },
    {
      "cell_type": "code",
      "metadata": {
        "id": "UosFEXx3R35j",
        "colab_type": "code",
        "colab": {
          "base_uri": "https://localhost:8080/",
          "height": 34
        },
        "outputId": "55339ee1-adc6-46de-ac34-b17e361310e0"
      },
      "source": [
        "a3 = 15\n",
        "a3_square = a3**2\n",
        "b3 = b1 + (a3 - a1)/(a2 - a1)*(b2 - b1)\n",
        "print(a3, b3, a3_square)"
      ],
      "execution_count": 30,
      "outputs": [
        {
          "output_type": "stream",
          "text": [
            "15 44.16666666666667 225\n"
          ],
          "name": "stdout"
        }
      ]
    },
    {
      "cell_type": "code",
      "metadata": {
        "id": "RWSAGCCpSPV6",
        "colab_type": "code",
        "colab": {}
      },
      "source": [
        ""
      ],
      "execution_count": null,
      "outputs": []
    }
  ]
}