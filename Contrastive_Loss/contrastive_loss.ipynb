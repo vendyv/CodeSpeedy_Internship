{
  "nbformat": 4,
  "nbformat_minor": 0,
  "metadata": {
    "colab": {
      "name": "contrastive_loss.ipynb",
      "provenance": [],
      "collapsed_sections": []
    },
    "kernelspec": {
      "name": "python3",
      "display_name": "Python 3"
    }
  },
  "cells": [
    {
      "cell_type": "code",
      "metadata": {
        "id": "HrNmABbQYmVa",
        "colab_type": "code",
        "outputId": "0f4d8e39-b737-43a8-be2f-d177b786e0a3",
        "colab": {
          "base_uri": "https://localhost:8080/",
          "height": 34
        }
      },
      "source": [
        "import numpy as np\n",
        "x1 = np.random.randn(10)\n",
        "x2 = np.random.randn(10)\n",
        "y = np.array([0, 0, 1, 1, 1, 0, 0, 1, 0, 1])\n",
        "print(x1.shape, x2.shape, y.shape)"
      ],
      "execution_count": 1,
      "outputs": [
        {
          "output_type": "stream",
          "text": [
            "(10,) (10,) (10,)\n"
          ],
          "name": "stdout"
        }
      ]
    },
    {
      "cell_type": "code",
      "metadata": {
        "id": "nCaY3R6mmnyl",
        "colab_type": "code",
        "outputId": "9c35434f-0ffe-470b-d998-b0c2da3d630a",
        "colab": {
          "base_uri": "https://localhost:8080/",
          "height": 87
        }
      },
      "source": [
        "print(x1, x2)"
      ],
      "execution_count": 2,
      "outputs": [
        {
          "output_type": "stream",
          "text": [
            "[-0.61610116 -0.3796963  -1.4851315  -0.21339086  0.54286875  0.82086393\n",
            " -0.17356641 -2.20859117 -2.08650106  1.04989187] [-1.40147278 -1.28367245  0.87106046 -2.71569944  0.80268252 -1.94593055\n",
            " -0.88638378 -1.46596103  1.25692972  1.10539999]\n"
          ],
          "name": "stdout"
        }
      ]
    },
    {
      "cell_type": "code",
      "metadata": {
        "id": "UNF9vCiWuvxo",
        "colab_type": "code",
        "colab": {}
      },
      "source": [
        "def contrastive_loss(input_1, input_2, label, margin):\n",
        "  squared_distance = np.sum(np.square((input_1 - input_2)))\n",
        "  loss_function = label*squared_distance*0.5 + (1 - label)*np.square(max(0, (margin - np.sqrt(squared_distance))))\n",
        "  return np.sum(loss_function)/len(input_1)"
      ],
      "execution_count": 0,
      "outputs": []
    },
    {
      "cell_type": "code",
      "metadata": {
        "id": "AgBLk4SD0YbV",
        "colab_type": "code",
        "colab": {}
      },
      "source": [
        "loss = contrastive_loss(x1, x2, y, 0.5)"
      ],
      "execution_count": 0,
      "outputs": []
    },
    {
      "cell_type": "code",
      "metadata": {
        "id": "5ZcpIunz0onE",
        "colab_type": "code",
        "outputId": "1e5f09d4-71c0-4300-f34d-4b3c6b4fd9f1",
        "colab": {
          "base_uri": "https://localhost:8080/",
          "height": 34
        }
      },
      "source": [
        "print(loss)"
      ],
      "execution_count": 5,
      "outputs": [
        {
          "output_type": "stream",
          "text": [
            "8.302760938328724\n"
          ],
          "name": "stdout"
        }
      ]
    }
  ]
}